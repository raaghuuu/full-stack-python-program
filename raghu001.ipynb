{
 "cells": [
  {
   "cell_type": "code",
   "execution_count": 1,
   "id": "66043e4d-95d6-4d4d-b794-193a3fc63ace",
   "metadata": {},
   "outputs": [
    {
     "name": "stdout",
     "output_type": "stream",
     "text": [
      "hello,python full stack students!\n"
     ]
    }
   ],
   "source": [
    "print(\"hello,python full stack students!\")"
   ]
  },
  {
   "cell_type": "code",
   "execution_count": 3,
   "id": "4eb9646b-bed2-47a8-9f8f-ad2c72877ef9",
   "metadata": {},
   "outputs": [
    {
     "name": "stdout",
     "output_type": "stream",
     "text": [
      "hello, wellcome students!\n"
     ]
    }
   ],
   "source": [
    "print(\"hello, wellcome students!\")"
   ]
  },
  {
   "cell_type": "code",
   "execution_count": 5,
   "id": "6944b982-7bd5-468d-9fa6-1a7576db71e4",
   "metadata": {},
   "outputs": [
    {
     "name": "stdout",
     "output_type": "stream",
     "text": [
      "hello, hi harsh,rohan aa!\n"
     ]
    }
   ],
   "source": [
    "print(\"hello, hi harsh,rohan aa!\")\n",
    "      "
   ]
  },
  {
   "cell_type": "raw",
   "id": "507e4129-4637-4e43-a014-f51e2136e75b",
   "metadata": {},
   "source": [
    "Name=\"raghavender\"\n",
    "age= 18\n",
    "gpa= 9.8\n",
    "is_stundent = True\n",
    "print(Name, age, gpa, is_student)"
   ]
  },
  {
   "cell_type": "code",
   "execution_count": 15,
   "id": "076ef1f4-6ecd-400c-83ea-af162987c26d",
   "metadata": {},
   "outputs": [
    {
     "name": "stdout",
     "output_type": "stream",
     "text": [
      "raghavender 18 9.8 True\n"
     ]
    }
   ],
   "source": [
    "Name=\"raghavender\"\n",
    "age= 18\n",
    "gpa= 9.8\n",
    "is_student = True\n",
    "print(Name, age, gpa, is_student)"
   ]
  },
  {
   "cell_type": "code",
   "execution_count": 16,
   "id": "b6513e06-2b03-4d5e-8f9a-4fe5a232075c",
   "metadata": {},
   "outputs": [
    {
     "name": "stdout",
     "output_type": "stream",
     "text": [
      "modi 78 10 True\n"
     ]
    }
   ],
   "source": [
    "name=\"modi\"\n",
    "age=78\n",
    "gpa=10\n",
    "is_student=True\n",
    "print(name, age,gpa, is_student ) "
   ]
  },
  {
   "cell_type": "code",
   "execution_count": 17,
   "id": "a9f5ae66-ca1f-457d-946e-858b831cd514",
   "metadata": {},
   "outputs": [
    {
     "name": "stdout",
     "output_type": "stream",
     "text": [
      "<class 'int'> <class 'float'> <class 'str'> <class 'bool'>\n"
     ]
    }
   ],
   "source": [
    "x=10\n",
    "y=5.8\n",
    "z=\"python\"\n",
    "flag=False\n",
    "print(type(x),type(y),type(z),type(flag))"
   ]
  },
  {
   "cell_type": "code",
   "execution_count": 21,
   "id": "a7db7b68-d9e2-4a5c-92c9-7b9e9f170123",
   "metadata": {},
   "outputs": [
    {
     "name": "stdout",
     "output_type": "stream",
     "text": [
      "raghu acc python\n"
     ]
    }
   ],
   "source": [
    "name=\"raghu\"\n",
    "college=\"acc\"\n",
    "favorite_programming_language= \"python\"\n",
    "print(name, college, favorite_programming_language,)"
   ]
  },
  {
   "cell_type": "code",
   "execution_count": 22,
   "id": "18b11357-f38d-40f6-b8b1-f9b185d871b6",
   "metadata": {},
   "outputs": [
    {
     "name": "stdout",
     "output_type": "stream",
     "text": [
      "457\n"
     ]
    }
   ],
   "source": [
    "year_of_birth=1568\n",
    "current_year=2025\n",
    "age=(current_year-year_of_birth)\n",
    "print(age)"
   ]
  },
  {
   "cell_type": "code",
   "execution_count": 24,
   "id": "0e5220f6-eec9-435b-90ab-f6ea1bf1e1d9",
   "metadata": {},
   "outputs": [
    {
     "name": "stdout",
     "output_type": "stream",
     "text": [
      "salaar 2023 8.9\n"
     ]
    }
   ],
   "source": [
    "movie_name=\"salaar\"\n",
    "year=2023\n",
    "rating=8.9\n",
    "print(movie_name, year, rating, )"
   ]
  },
  {
   "cell_type": "code",
   "execution_count": 27,
   "id": "6565ec99-ecae-4628-8adc-2f8211b5eb01",
   "metadata": {},
   "outputs": [
    {
     "name": "stdout",
     "output_type": "stream",
     "text": [
      "addition: 19\n",
      "division: 3.75\n",
      "floor division: 3\n",
      "power: 50625\n"
     ]
    }
   ],
   "source": [
    "a=15\n",
    "b=4\n",
    "print(\"addition:\",a+b)\n",
    "print(\"division:\",a/b)\n",
    "print(\"floor division:\",a//b)\n",
    "print(\"power:\",a**b)"
   ]
  },
  {
   "cell_type": "code",
   "execution_count": 29,
   "id": "bfa38ddf-b711-42e8-8caf-2c2c17839d4d",
   "metadata": {},
   "outputs": [
    {
     "name": "stdout",
     "output_type": "stream",
     "text": [
      "False\n",
      "False\n",
      "False\n"
     ]
    }
   ],
   "source": [
    "a=100\n",
    "b=366\n",
    "print(a>b)\n",
    "print(a==10)\n",
    "print((a<b) and ( b==20))"
   ]
  },
  {
   "cell_type": "code",
   "execution_count": null,
   "id": "d2bb7d00-fb91-4a44-a6e0-1056004cdb77",
   "metadata": {},
   "outputs": [],
   "source": []
  }
 ],
 "metadata": {
  "kernelspec": {
   "display_name": "Python [conda env:base] *",
   "language": "python",
   "name": "conda-base-py"
  },
  "language_info": {
   "codemirror_mode": {
    "name": "ipython",
    "version": 3
   },
   "file_extension": ".py",
   "mimetype": "text/x-python",
   "name": "python",
   "nbconvert_exporter": "python",
   "pygments_lexer": "ipython3",
   "version": "3.13.5"
  }
 },
 "nbformat": 4,
 "nbformat_minor": 5
}
