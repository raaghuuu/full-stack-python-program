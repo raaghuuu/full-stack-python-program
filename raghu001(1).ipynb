{
 "cells": [
  {
   "cell_type": "code",
   "execution_count": 1,
   "id": "66043e4d-95d6-4d4d-b794-193a3fc63ace",
   "metadata": {},
   "outputs": [
    {
     "name": "stdout",
     "output_type": "stream",
     "text": [
      "hello,python full stack students!\n"
     ]
    }
   ],
   "source": [
    "print(\"hello,python full stack students!\")"
   ]
  },
  {
   "cell_type": "code",
   "execution_count": 3,
   "id": "4eb9646b-bed2-47a8-9f8f-ad2c72877ef9",
   "metadata": {},
   "outputs": [
    {
     "name": "stdout",
     "output_type": "stream",
     "text": [
      "hello, wellcome students!\n"
     ]
    }
   ],
   "source": [
    "print(\"hello, wellcome students!\")"
   ]
  },
  {
   "cell_type": "code",
   "execution_count": 5,
   "id": "6944b982-7bd5-468d-9fa6-1a7576db71e4",
   "metadata": {},
   "outputs": [
    {
     "name": "stdout",
     "output_type": "stream",
     "text": [
      "hello, hi harsh,rohan aa!\n"
     ]
    }
   ],
   "source": [
    "print(\"hello, hi harsh,rohan aa!\")\n",
    "      "
   ]
  },
  {
   "cell_type": "raw",
   "id": "507e4129-4637-4e43-a014-f51e2136e75b",
   "metadata": {},
   "source": [
    "Name=\"raghavender\"\n",
    "age= 18\n",
    "gpa= 9.8\n",
    "is_stundent = True\n",
    "print(Name, age, gpa, is_student)"
   ]
  },
  {
   "cell_type": "code",
   "execution_count": 15,
   "id": "076ef1f4-6ecd-400c-83ea-af162987c26d",
   "metadata": {},
   "outputs": [
    {
     "name": "stdout",
     "output_type": "stream",
     "text": [
      "raghavender 18 9.8 True\n"
     ]
    }
   ],
   "source": [
    "Name=\"raghavender\"\n",
    "age= 18\n",
    "gpa= 9.8\n",
    "is_student = True\n",
    "print(Name, age, gpa, is_student)"
   ]
  },
  {
   "cell_type": "code",
   "execution_count": 16,
   "id": "b6513e06-2b03-4d5e-8f9a-4fe5a232075c",
   "metadata": {},
   "outputs": [
    {
     "name": "stdout",
     "output_type": "stream",
     "text": [
      "modi 78 10 True\n"
     ]
    }
   ],
   "source": [
    "name=\"modi\"\n",
    "age=78\n",
    "gpa=10\n",
    "is_student=True\n",
    "print(name, age,gpa, is_student ) "
   ]
  },
  {
   "cell_type": "code",
   "execution_count": 17,
   "id": "a9f5ae66-ca1f-457d-946e-858b831cd514",
   "metadata": {},
   "outputs": [
    {
     "name": "stdout",
     "output_type": "stream",
     "text": [
      "<class 'int'> <class 'float'> <class 'str'> <class 'bool'>\n"
     ]
    }
   ],
   "source": [
    "x=10\n",
    "y=5.8\n",
    "z=\"python\"\n",
    "flag=False\n",
    "print(type(x),type(y),type(z),type(flag))"
   ]
  },
  {
   "cell_type": "code",
   "execution_count": 21,
   "id": "a7db7b68-d9e2-4a5c-92c9-7b9e9f170123",
   "metadata": {},
   "outputs": [
    {
     "name": "stdout",
     "output_type": "stream",
     "text": [
      "raghu acc python\n"
     ]
    }
   ],
   "source": [
    "name=\"raghu\"\n",
    "college=\"acc\"\n",
    "favorite_programming_language= \"python\"\n",
    "print(name, college, favorite_programming_language,)"
   ]
  },
  {
   "cell_type": "code",
   "execution_count": 22,
   "id": "18b11357-f38d-40f6-b8b1-f9b185d871b6",
   "metadata": {},
   "outputs": [
    {
     "name": "stdout",
     "output_type": "stream",
     "text": [
      "457\n"
     ]
    }
   ],
   "source": [
    "year_of_birth=1568\n",
    "current_year=2025\n",
    "age=(current_year-year_of_birth)\n",
    "print(age)"
   ]
  },
  {
   "cell_type": "code",
   "execution_count": 24,
   "id": "0e5220f6-eec9-435b-90ab-f6ea1bf1e1d9",
   "metadata": {},
   "outputs": [
    {
     "name": "stdout",
     "output_type": "stream",
     "text": [
      "salaar 2023 8.9\n"
     ]
    }
   ],
   "source": [
    "movie_name=\"salaar\"\n",
    "year=2023\n",
    "rating=8.9\n",
    "print(movie_name, year, rating, )"
   ]
  },
  {
   "cell_type": "code",
   "execution_count": 27,
   "id": "6565ec99-ecae-4628-8adc-2f8211b5eb01",
   "metadata": {},
   "outputs": [
    {
     "name": "stdout",
     "output_type": "stream",
     "text": [
      "addition: 19\n",
      "division: 3.75\n",
      "floor division: 3\n",
      "power: 50625\n"
     ]
    }
   ],
   "source": [
    "a=15\n",
    "b=4\n",
    "print(\"addition:\",a+b)\n",
    "print(\"division:\",a/b)\n",
    "print(\"floor division:\",a//b)\n",
    "print(\"power:\",a**b)"
   ]
  },
  {
   "cell_type": "code",
   "execution_count": 1,
   "id": "bfa38ddf-b711-42e8-8caf-2c2c17839d4d",
   "metadata": {},
   "outputs": [
    {
     "name": "stdout",
     "output_type": "stream",
     "text": [
      "False\n",
      "False\n",
      "False\n"
     ]
    }
   ],
   "source": [
    "a=100\n",
    "b=366\n",
    "print(a>b)\n",
    "print(a==10)\n",
    "print((a<b) and ( b==20))"
   ]
  },
  {
   "cell_type": "code",
   "execution_count": 19,
   "id": "9d745b8c-3650-4f3c-bfe2-9d4d9208d3a0",
   "metadata": {},
   "outputs": [
    {
     "name": "stdout",
     "output_type": "stream",
     "text": [
      "['apple', 'banana', 'mango', 'orange']\n"
     ]
    }
   ],
   "source": [
    "fruits=[\"apple\",\"banana\",\"mango\"]\n",
    "fruits.append(\"orange\")\n",
    "print(fruits)"
   ]
  },
  {
   "cell_type": "code",
   "execution_count": 20,
   "id": "23826167-78d1-45e0-95c6-5605d8458c37",
   "metadata": {},
   "outputs": [
    {
     "name": "stdout",
     "output_type": "stream",
     "text": [
      "mango\n"
     ]
    }
   ],
   "source": [
    "print(fruits[2])"
   ]
  },
  {
   "cell_type": "code",
   "execution_count": 11,
   "id": "fbeacbca-a3f1-4aa1-bb59-9de4c47394e7",
   "metadata": {},
   "outputs": [
    {
     "name": "stdout",
     "output_type": "stream",
     "text": [
      "['raghu', 'harshith', 'harsh', 'rohan aa', 'mahi']\n"
     ]
    }
   ],
   "source": [
    "name=[\"raghu\",\"harshith\",\"harsh\",\"rohan aa\",]\n",
    "name.append(\"mahi\")\n",
    "print(name)"
   ]
  },
  {
   "cell_type": "code",
   "execution_count": 12,
   "id": "24ac704e-c31d-4c34-a621-a8197682f743",
   "metadata": {},
   "outputs": [
    {
     "name": "stdout",
     "output_type": "stream",
     "text": [
      "rohan aa\n"
     ]
    }
   ],
   "source": [
    "print(name[3])"
   ]
  },
  {
   "cell_type": "code",
   "execution_count": 21,
   "id": "623c0115-e289-46c6-bc87-d003ea97da8f",
   "metadata": {},
   "outputs": [
    {
     "name": "stdout",
     "output_type": "stream",
     "text": [
      "red\n"
     ]
    }
   ],
   "source": [
    "colour=(\"pinl\",\"red\",\"blue\")\n",
    "print(colour[1])"
   ]
  },
  {
   "cell_type": "code",
   "execution_count": 22,
   "id": "c87c32a4-1179-4101-8cbd-1d6d53e3e08c",
   "metadata": {},
   "outputs": [
    {
     "ename": "TypeError",
     "evalue": "'tuple' object does not support item assignment",
     "output_type": "error",
     "traceback": [
      "\u001b[1;31m---------------------------------------------------------------------------\u001b[0m",
      "\u001b[1;31mTypeError\u001b[0m                                 Traceback (most recent call last)",
      "Cell \u001b[1;32mIn[22], line 1\u001b[0m\n\u001b[1;32m----> 1\u001b[0m colour[\u001b[38;5;241m1\u001b[39m]\u001b[38;5;241m=\u001b[39m\u001b[38;5;124m\"\u001b[39m\u001b[38;5;124myellow\u001b[39m\u001b[38;5;124m\"\u001b[39m\n",
      "\u001b[1;31mTypeError\u001b[0m: 'tuple' object does not support item assignment"
     ]
    }
   ],
   "source": [
    "colour[1]=\"yellow\""
   ]
  },
  {
   "cell_type": "code",
   "execution_count": 24,
   "id": "75f5476f-9b4b-40d9-8af8-42e257fdb09d",
   "metadata": {},
   "outputs": [
    {
     "name": "stdout",
     "output_type": "stream",
     "text": [
      "{1, 2, 3, 4, 5}\n"
     ]
    }
   ],
   "source": [
    "numbers={1,2,3,3,4}\n",
    "numbers.add(5)\n",
    "print(numbers)"
   ]
  },
  {
   "cell_type": "code",
   "execution_count": 32,
   "id": "b133a2b5-4286-402f-bea3-8df812e97bb9",
   "metadata": {},
   "outputs": [
    {
     "name": "stdout",
     "output_type": "stream",
     "text": [
      "raghu\n"
     ]
    }
   ],
   "source": [
    "student={\"name\":\"raghu\",\n",
    "         \"age\":18,\n",
    "         \"course\":\"full stack python\"}\n",
    "print(student[\"name\"])"
   ]
  },
  {
   "cell_type": "code",
   "execution_count": 35,
   "id": "e3987f87-5d8d-49eb-b1a2-c3cc1a47a232",
   "metadata": {},
   "outputs": [
    {
     "name": "stdout",
     "output_type": "stream",
     "text": [
      "18\n"
     ]
    }
   ],
   "source": [
    "print (student[\"age\"])"
   ]
  },
  {
   "cell_type": "code",
   "execution_count": 36,
   "id": "7e8dbf22-12e0-4f34-8fcb-777ab141e6b4",
   "metadata": {},
   "outputs": [
    {
     "name": "stdout",
     "output_type": "stream",
     "text": [
      "full stack python\n"
     ]
    }
   ],
   "source": [
    "print(student[\"course\"])"
   ]
  },
  {
   "cell_type": "code",
   "execution_count": 38,
   "id": "3b3d1c70-7542-4ecb-8c24-858f6b025886",
   "metadata": {},
   "outputs": [],
   "source": [
    "student[\"college\"]=\"acc\""
   ]
  },
  {
   "cell_type": "code",
   "execution_count": 39,
   "id": "d972264e-9e36-457c-9715-bd7e94c6a141",
   "metadata": {},
   "outputs": [
    {
     "name": "stdout",
     "output_type": "stream",
     "text": [
      "acc\n"
     ]
    }
   ],
   "source": [
    "print(student[\"college\"])"
   ]
  },
  {
   "cell_type": "code",
   "execution_count": 40,
   "id": "7e53303c-7e1c-4c22-9d01-678ab1a9e134",
   "metadata": {},
   "outputs": [
    {
     "name": "stdout",
     "output_type": "stream",
     "text": [
      "{'name': 'raghu', 'age': 18, 'course': 'full stack python', 'college': 'acc'}\n"
     ]
    }
   ],
   "source": [
    "print(student)"
   ]
  },
  {
   "cell_type": "code",
   "execution_count": 47,
   "id": "e432eeb4-87e1-4914-b8fb-df18dd4329fc",
   "metadata": {},
   "outputs": [
    {
     "name": "stdout",
     "output_type": "stream",
     "text": [
      "grade:B\n"
     ]
    }
   ],
   "source": [
    "marks=79\n",
    "if marks>=80:\n",
    "   print(\"grade:A\")\n",
    "elif marks>=75:\n",
    "    print(\"grade:B\")\n",
    "elif marks>=50:\n",
    "    print(\"grade:C\")\n",
    "else:\n",
    "    print(\"grade:fail\")\n"
   ]
  },
  {
   "cell_type": "code",
   "execution_count": 53,
   "id": "0b1f0a1d-5b1b-4ca4-a287-bd8866696867",
   "metadata": {},
   "outputs": [
    {
     "name": "stdout",
     "output_type": "stream",
     "text": [
      "number: 1\n",
      "number: 2\n",
      "number: 3\n",
      "number: 4\n",
      "number: 5\n",
      "number: 6\n",
      "number: 7\n",
      "number: 8\n",
      "number: 9\n",
      "number: 10\n",
      "number: 11\n",
      "number: 12\n",
      "number: 13\n",
      "number: 14\n",
      "number: 15\n",
      "number: 16\n",
      "number: 17\n",
      "number: 18\n",
      "number: 19\n",
      "number: 20\n",
      "number: 21\n",
      "number: 22\n",
      "number: 23\n",
      "number: 24\n"
     ]
    }
   ],
   "source": [
    "for i in range(1,25):\n",
    "    print(\"number:\",i)\n",
    "        "
   ]
  },
  {
   "cell_type": "code",
   "execution_count": 55,
   "id": "bc74c9a4-4971-4b4c-9251-80d73515d601",
   "metadata": {},
   "outputs": [
    {
     "name": "stdout",
     "output_type": "stream",
     "text": [
      "count: 1\n",
      "count: 3\n",
      "count: 5\n"
     ]
    }
   ],
   "source": [
    "count=1\n",
    "while count<=5:\n",
    "    print(\"count:\",count)\n",
    "    count+=2"
   ]
  },
  {
   "cell_type": "code",
   "execution_count": 80,
   "id": "b003e3e0-332e-4bcf-9770-0d5e895c89b2",
   "metadata": {},
   "outputs": [
    {
     "name": "stdout",
     "output_type": "stream",
     "text": [
      "1\n",
      "2\n",
      "3\n",
      "4\n",
      "5\n",
      "6\n",
      "7\n",
      "8\n",
      "9\n"
     ]
    }
   ],
   "source": [
    "for i in range (1,10):\n",
    "    if i==10:\n",
    "     break\n",
    "    print(i)"
   ]
  },
  {
   "cell_type": "code",
   "execution_count": null,
   "id": "9d59100f-e269-4692-9f8f-c744cea54ee4",
   "metadata": {},
   "outputs": [],
   "source": []
  }
 ],
 "metadata": {
  "kernelspec": {
   "display_name": "Python [conda env:base] *",
   "language": "python",
   "name": "conda-base-py"
  },
  "language_info": {
   "codemirror_mode": {
    "name": "ipython",
    "version": 3
   },
   "file_extension": ".py",
   "mimetype": "text/x-python",
   "name": "python",
   "nbconvert_exporter": "python",
   "pygments_lexer": "ipython3",
   "version": "3.13.5"
  }
 },
 "nbformat": 4,
 "nbformat_minor": 5
}
